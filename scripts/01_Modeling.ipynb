{
 "cells": [
  {
   "cell_type": "markdown",
   "id": "890821ea",
   "metadata": {},
   "source": [
    "# Modeling the heads in the Baltics\n",
    "*M. Jemeljanova, R.A. Collenteur (November 2022)*\n",
    "\n",
    "This notebook is part of the manuscript by Jemeljanova et al. titled \"*Modeling hydraulic heads with impulse response functions in different environmental settings*\" submitted to Journal of Hydrology: Regional Studies.\n",
    "\n",
    "## 0. Import python packages"
   ]
  },
  {
   "cell_type": "code",
   "execution_count": null,
   "id": "bcb5daaf",
   "metadata": {},
   "outputs": [],
   "source": [
    "import os\n",
    "import gc\n",
    "import numpy as np\n",
    "import pandas as pd\n",
    "import numba as numba\n",
    "\n",
    "import matplotlib.pyplot as plt\n",
    "\n",
    "import pastas as ps\n",
    "import pyet\n",
    "\n",
    "from tqdm import tqdm\n",
    "\n",
    "ps.set_log_level(\"ERROR\")\n",
    "ps.show_versions(numba=True)"
   ]
  },
  {
   "cell_type": "markdown",
   "id": "b9f9db6e",
   "metadata": {},
   "source": [
    "## 1. Load data"
   ]
  },
  {
   "cell_type": "code",
   "execution_count": null,
   "id": "ef366f1a",
   "metadata": {},
   "outputs": [],
   "source": [
    "os.getcwd()\n",
    "os.chdir('../') \n",
    "\n",
    "heads = pd.read_csv(os.path.join(os.getcwd(), 'input', 'hydraulic_head.csv'), \n",
    "                    parse_dates=['date'], index_col='date')\n",
    "precipitation = pd.read_csv(os.path.join(os.getcwd(), 'input', 'precipitation.csv'), \n",
    "                            parse_dates=['time'], index_col='time')\n",
    "evaporation = pd.read_csv(os.path.join(os.getcwd(), 'input', 'evaporation.csv'), \n",
    "                          parse_dates=['time'], index_col='time')\n",
    "temperature = pd.read_csv(os.path.join(os.getcwd(), 'input', 'temperature_mean.csv'), \n",
    "                          parse_dates=['time'], index_col='time')"
   ]
  },
  {
   "cell_type": "markdown",
   "id": "6f0ebbce",
   "metadata": {},
   "source": [
    "## 2. Define helper functions"
   ]
  },
  {
   "cell_type": "code",
   "execution_count": null,
   "id": "d1a8a3d8",
   "metadata": {},
   "outputs": [],
   "source": [
    "def model_creation(head, prec, evap, tmean):\n",
    "    \"\"\"Method to create and calibrate the four different model structures\n",
    "    \n",
    "    Parameters\n",
    "    ----------\n",
    "    head: pandas.Series\n",
    "        Pandas time series with the heads.\n",
    "    prec: pandas.Series\n",
    "        Pandas time series with the precipitation in mm/d.\n",
    "    evap: pandas.Series\n",
    "        Pandas time series with the potential evaporation in mm/d.\n",
    "    tmean: pandas.Series\n",
    "        Pandas time series with the average daily temperature in degree\n",
    "        Celcius.\n",
    "        \n",
    "    \"\"\"\n",
    "    # LINEAR + GAMMA\n",
    "    \n",
    "    model_lg = ps.Model(head, name=\"LG\")\n",
    "    recharge_Lin_G = ps.RechargeModel(prec, evap, rfunc=ps.Gamma, recharge= ps.rch.Linear(), name = \"rch\")\n",
    "    model_lg.add_stressmodel(recharge_Lin_G) # adds recharge for parameter calibration\n",
    "    # first calibrate model without noise to bet better initial parameters\n",
    "    model_lg.solve(noise=False, tmin=tmin_cal, tmax=tmax_cal, report=False)\n",
    "    # calibrate with noise\n",
    "    model_lg.solve(noise=True, initial=False, tmin=tmin_cal ,tmax=tmax_cal, report=False) \n",
    "\n",
    "    # LINEAR + FOUR PARAMETER\n",
    "    \n",
    "    model_l4 = ps.Model(head, name=\"L4\")\n",
    "    recharge_Lin_4 = ps.RechargeModel(prec, evap, rfunc=ps.FourParam, recharge= ps.rch.Linear(), name=\"rch\")\n",
    "    model_l4.add_stressmodel(recharge_Lin_4)\n",
    "    model_l4.solve(noise=False, tmin=tmin_cal, tmax=tmax_cal, report=False)\n",
    "    model_l4.solve(noise=True, initial=False, tmin=tmin_cal ,tmax=tmax_cal, report=False) \n",
    "\n",
    "    # NON-lINEAR (Flex) + GAMMA\n",
    "    \n",
    "    model_nlg = ps.Model(head, name=\"NLG\")\n",
    "    recharge_Flex_G = ps.RechargeModel(prec, evap, rfunc=ps.Gamma, recharge= ps.rch.FlexModel(), name=\"rch\")\n",
    "    model_nlg.add_stressmodel(recharge_Flex_G)\n",
    "    model_nlg.set_parameter(\"rch_kv\", vary=True, pmin=0.25)\n",
    "    model_nlg.solve(noise=False, tmin=tmin_cal, tmax=tmax_cal, report=False)\n",
    "    model_nlg.set_parameter(\"rch_srmax\", vary=False)\n",
    "    model_nlg.solve(noise=True, initial=False, tmin=tmin_cal ,tmax=tmax_cal, report=False)\n",
    "    \n",
    "    # NON-LINEAR (Flex) SNOW\n",
    "    \n",
    "    model_s = ps.Model(head, name=\"NLS\")\n",
    "    recharge_Flex_s = ps.RechargeModel(prec, evap, rfunc=ps.Gamma, recharge=ps.rch.FlexModel(snow=True), \n",
    "                                       name=\"rch\", temp=tmean)\n",
    "    model_s.add_stressmodel(recharge_Flex_s)\n",
    "    model_s.set_parameter(\"rch_kv\", vary=True, pmin=0.25)\n",
    "    model_s.solve(noise=False, tmin=tmin_cal, tmax=tmax_cal, report=False)\n",
    "    model_s.set_parameter(\"rch_srmax\", vary=False)\n",
    "    model_s.solve(noise=True, initial=False, tmin=tmin_cal ,tmax=tmax_cal, report=False)    \n",
    "    \n",
    "    return model_lg, model_l4, model_nlg, model_s"
   ]
  },
  {
   "cell_type": "code",
   "execution_count": null,
   "id": "4d6974aa",
   "metadata": {},
   "outputs": [],
   "source": [
    "# Create metrics DataFrame\n",
    "stats = ['RMSE_c', 'NSE_c', 'KGE_c', 'RMSE_v', 'NSE_v', 'KGE_v']\n",
    "mi = pd.MultiIndex.from_product([heads.columns[1:].unique(), [\"LG\", \"L4\", \"NLG\", \"NLS\"]])\n",
    "all_metrics = pd.DataFrame(index=mi, columns=stats)\n",
    "\n",
    "def calculating_metrics(well, models):  \n",
    "    \"\"\"Method to compute the metrics for all models\n",
    "    \n",
    "    Parameter\n",
    "    ---------\n",
    "    well: str\n",
    "        String with the name of the well\n",
    "    models: lost of Pastas.Models\n",
    "        List with the Pastas models.\n",
    "    \n",
    "    \"\"\"\n",
    "    for model in models:\n",
    "\n",
    "        # Metrics in the calibration period\n",
    "        rmse_c = model.stats.rmse(tmin = tmin_cal, tmax = tmax_cal)\n",
    "        nse_c = model.stats.nse(tmin = tmin_cal, tmax = tmax_cal)\n",
    "        kge_c = model.stats.kge_2012(tmin = tmin_cal, tmax = tmax_cal)\n",
    "\n",
    "        # Metrics in the valivation period\n",
    "        rmse_v = model.stats.rmse(tmin = tmin_val, tmax = tmax_val)\n",
    "        nse_v = model.stats.nse(tmin = tmin_val, tmax = tmax_val)\n",
    "        kge_v = model.stats.kge_2012(tmin = tmin_val, tmax = tmax_val)\n",
    "\n",
    "        all_metrics.loc[(well, model.name), stats] = [rmse_c, nse_c, kge_c, \n",
    "                                                      rmse_v, nse_v, kge_v]"
   ]
  },
  {
   "cell_type": "code",
   "execution_count": null,
   "id": "5ed077fd",
   "metadata": {},
   "outputs": [],
   "source": [
    "# Create parameters DataFrame\n",
    "names = ['rch_A', 'rch_n', 'rch_a']\n",
    "mi = pd.MultiIndex.from_product([heads.columns[1:].unique(), [\"LG\", \"L4\", \"NLG\", \"NLS\"]])\n",
    "params = pd.DataFrame(index=mi, columns=names)\n",
    "\n",
    "def store_model_parameters(well, models):\n",
    "    \"\"\"Method to store the model parameters for all models.\n",
    "    \n",
    "    Parameter\n",
    "    ---------\n",
    "    well: str\n",
    "        String with the name of the well\n",
    "    models: lost of Pastas.Models\n",
    "        List with the Pastas models.\n",
    "    \n",
    "    \"\"\"\n",
    "    for model in models:\n",
    "        params.loc[(well, model.name), names] = model.parameters.loc[names, \"optimal\"]"
   ]
  },
  {
   "cell_type": "code",
   "execution_count": null,
   "id": "20550026",
   "metadata": {},
   "outputs": [],
   "source": [
    "def saving_models(well, models):  \n",
    "    \"\"\"Method to save a pas-file all models.\n",
    "\n",
    "    Parameter\n",
    "    ---------\n",
    "    well: str\n",
    "        String with the name of the well\n",
    "    models: lost of Pastas.Models\n",
    "        List with the Pastas models.\n",
    "    \n",
    "    \"\"\"\n",
    "    for model in models:\n",
    "        filename = str(well)[:2]+ str(well)[3:]+\"_\"+ model.name\n",
    "        model.to_file((os.path.join(os.getcwd(), 'output', 'models', filename + \".pas\")))"
   ]
  },
  {
   "cell_type": "code",
   "execution_count": null,
   "id": "a8dfb788",
   "metadata": {},
   "outputs": [],
   "source": [
    "def plotting_and_saving_comparison_figures(well, models):\n",
    "    \"\"\"Method to plot all models and save the figure.\n",
    "\n",
    "    Parameter\n",
    "    ---------\n",
    "    well: str\n",
    "        String with the name of the well\n",
    "    models: lost of Pastas.Models\n",
    "        List with the Pastas models.\n",
    "    \n",
    "    \"\"\"\n",
    "    ps.plots.compare(models, figsize=(20,10))\n",
    "    plt.savefig(os.path.join(os.getcwd(), 'output', 'figures', well + \".png\"))\n",
    "    plt.close()"
   ]
  },
  {
   "cell_type": "markdown",
   "id": "0bd45b59",
   "metadata": {},
   "source": [
    "## 3. Run models"
   ]
  },
  {
   "cell_type": "code",
   "execution_count": null,
   "id": "16ff4b39",
   "metadata": {},
   "outputs": [],
   "source": [
    "for well in tqdm(heads.columns[1:].unique()):\n",
    "    # select the data for the specific observation well\n",
    "    head = heads[well].dropna()\n",
    "    prec = precipitation[well].dropna()\n",
    "    tmean = temperature[well].dropna()\n",
    "    evap = evaporation[well].dropna().asfreq(\"D\").interpolate() # interpolate a few entries\n",
    "    \n",
    "    # determine the calibration and validation dates from the meteodata     \n",
    "    global tmax_cal, tmin_cal, tmax_val, tmin_val\n",
    "    \n",
    "    tmax_val = prec.index[-1]\n",
    "    tmax_cal = tmax_val - pd.DateOffset(years = 5)\n",
    "    tmin_val = tmax_cal + pd.DateOffset(days = 1)\n",
    "    tmin_cal = tmin_val - pd.DateOffset(years = 10)\n",
    "    \n",
    "    # Make string for Pastas\n",
    "    tmin_val = tmin_val.strftime(\"%Y-%m-%d\")\n",
    "    tmin_cal = tmin_cal.strftime(\"%Y-%m-%d\")\n",
    "    tmax_cal = tmax_cal.strftime(\"%Y-%m-%d\")\n",
    "    tmax_val = tmax_val.strftime(\"%Y-%m-%d\")\n",
    "    \n",
    "    # Create and calibrate the models\n",
    "    models = model_creation(head, prec, evap, tmean)\n",
    "    \n",
    "    # Extract information and store models\n",
    "    calculating_metrics(well, models)\n",
    "    store_model_parameters(well, models)\n",
    "    saving_models(well, models)\n",
    "    plotting_and_saving_comparison_figures(well, models)\n",
    "    \n",
    "    # Free up memory right away, no need to store\n",
    "    gc.collect()"
   ]
  },
  {
   "cell_type": "markdown",
   "id": "ba45c545",
   "metadata": {},
   "source": [
    "## 4. Export fit metrics"
   ]
  },
  {
   "cell_type": "code",
   "execution_count": null,
   "id": "2f831271",
   "metadata": {},
   "outputs": [],
   "source": [
    "params.to_csv(os.path.join(os.getcwd(), 'output', 'params.csv'))\n",
    "params.dropna().head()"
   ]
  },
  {
   "cell_type": "markdown",
   "id": "0afc5ada",
   "metadata": {},
   "source": [
    "## 5. Export models parameters"
   ]
  },
  {
   "cell_type": "code",
   "execution_count": null,
   "id": "e0849631",
   "metadata": {},
   "outputs": [],
   "source": [
    "all_metrics.to_csv(os.path.join(os.getcwd(), 'output', 'metrics.csv'))\n",
    "all_metrics.dropna().head()"
   ]
  }
 ],
 "metadata": {
  "kernelspec": {
   "display_name": "Python 3 (ipykernel)",
   "language": "python",
   "name": "python3"
  },
  "language_info": {
   "codemirror_mode": {
    "name": "ipython",
    "version": 3
   },
   "file_extension": ".py",
   "mimetype": "text/x-python",
   "name": "python",
   "nbconvert_exporter": "python",
   "pygments_lexer": "ipython3",
   "version": "3.9.15"
  }
 },
 "nbformat": 4,
 "nbformat_minor": 5
}
